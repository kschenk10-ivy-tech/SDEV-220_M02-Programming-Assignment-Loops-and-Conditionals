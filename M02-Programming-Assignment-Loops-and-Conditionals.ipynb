{
 "cells": [
  {
   "cell_type": "markdown",
   "id": "0606945f-3803-4035-aac7-652ea41c3a41",
   "metadata": {},
   "source": [
    "# SDEV-220 | Module Two\n",
    "*Programming Assignment: Loops & Conditionals*\n"
   ]
  },
  {
   "cell_type": "markdown",
   "id": "fcfced93-c8d1-48d3-b1df-643a17917834",
   "metadata": {},
   "source": [
    "## Chapter 4"
   ]
  },
  {
   "cell_type": "markdown",
   "id": "ed2c89d6-b108-49fb-8e38-862867e14c30",
   "metadata": {},
   "source": [
    "**Things to Do**\n",
    "\n",
    "#### 4.1\n",
    "- Choose a number between 1 and 10 and assign it to the variable secret. \n",
    "- Then, select another number between 1 and 10 and assign it to the variable guess. \n",
    "- Next, write the conditional tests (if, else, and elif) to print the string 'too low'\n",
    "  - if guess is less than secret,'too high'\n",
    "  - if greater than secret, and\n",
    "  - 'just right' if equal to secret.\n",
    "---"
   ]
  },
  {
   "cell_type": "code",
   "execution_count": 21,
   "id": "85926688",
   "metadata": {},
   "outputs": [
    {
     "data": {
      "text/plain": [
       "(5, 3, 'too low')"
      ]
     },
     "execution_count": 21,
     "metadata": {},
     "output_type": "execute_result"
    }
   ],
   "source": [
    "# 4.1\n",
    "\n",
    "import random\n",
    "\n",
    "secret = random.randint(1, 10)\n",
    "guess = random.randint(1, 10)\n",
    "\n",
    "if guess < secret:\n",
    "    result = 'too low'\n",
    "elif guess > secret:\n",
    "    result = 'too high'\n",
    "else:\n",
    "    result = 'just right'\n",
    "\n",
    "secret, guess, result\n"
   ]
  },
  {
   "cell_type": "markdown",
   "id": "ec81e2b2",
   "metadata": {},
   "source": [
    "#### 4.2\n",
    "\n",
    "- Assign True or False to the variables small and green.\n",
    "- Write some if/else statements to print which of these matches those choices: cherry, pea, watermelon, pumpkin.\n",
    "---"
   ]
  },
  {
   "cell_type": "code",
   "execution_count": 22,
   "id": "bdbad059",
   "metadata": {},
   "outputs": [
    {
     "name": "stdout",
     "output_type": "stream",
     "text": [
      "pea\n"
     ]
    }
   ],
   "source": [
    "# Assigning values to small and green\n",
    "small = True  # or False\n",
    "green = True  # or False\n",
    "\n",
    "# Checking conditions and printing the corresponding fruit/vegetable\n",
    "if small and green:\n",
    "    print(\"pea\")\n",
    "elif small and not green:\n",
    "    print(\"cherry\")\n",
    "elif not small and green:\n",
    "    print(\"watermelon\")\n",
    "elif not small and not green:\n",
    "    print(\"pumpkin\")\n"
   ]
  },
  {
   "cell_type": "markdown",
   "id": "e5ef84af-6adf-41f2-bc93-aa00c70a1f46",
   "metadata": {},
   "source": [
    "## Chapter 6"
   ]
  },
  {
   "cell_type": "markdown",
   "id": "7ee8c561-e97a-4676-9cbc-9c0e0516b4f2",
   "metadata": {},
   "source": [
    "*Things to Do*\n",
    "\n",
    "#### 6.1 \n",
    "- Use a for loop to print the values of the list [3, 2, 1, 0].\n",
    "---"
   ]
  },
  {
   "cell_type": "code",
   "execution_count": 23,
   "id": "4e5cd631",
   "metadata": {},
   "outputs": [
    {
     "name": "stdout",
     "output_type": "stream",
     "text": [
      "3\n",
      "2\n",
      "1\n",
      "0\n"
     ]
    }
   ],
   "source": [
    "numbers = [3, 2, 1, 0]\n",
    "\n",
    "for number in numbers:\n",
    "    print(number)\n"
   ]
  },
  {
   "cell_type": "markdown",
   "id": "5598f44f",
   "metadata": {},
   "source": [
    "#### 6.2 \n",
    "- Assign the value 7 to the variable guess_me, and the value 1 to the variable number.\n",
    "- Write a while loop that compares number with guess_me. Print 'too low' if number is less than guess me.\n",
    "- If number equals guess_me, print 'found it!' and then exit the loop.\n",
    "- If number is greater than guess_me, print 'oops' and then exit the loop.\n",
    "- Increment number at the end of the loop.\n",
    "---"
   ]
  },
  {
   "cell_type": "code",
   "execution_count": 24,
   "id": "3fc21309",
   "metadata": {},
   "outputs": [
    {
     "name": "stdout",
     "output_type": "stream",
     "text": [
      "too low\n",
      "too low\n",
      "too low\n",
      "too low\n",
      "too low\n",
      "too low\n",
      "found it!\n"
     ]
    }
   ],
   "source": [
    "guess_me = 7\n",
    "number = 1\n",
    "\n",
    "while True:\n",
    "    if number < guess_me:\n",
    "        print('too low')\n",
    "    elif number == guess_me:\n",
    "        print('found it!')\n",
    "        break  \n",
    "    else:\n",
    "        print('oops')\n",
    "        break  \n",
    "    \n",
    "    number += 1"
   ]
  },
  {
   "cell_type": "markdown",
   "id": "3e94afd6",
   "metadata": {},
   "source": [
    "#### 6.3 \n",
    "- Assign the value 5 to the variable guess_me. Use a for loop to iterate a variable called number over range(10).\n",
    "- If number is less than guess_me, print 'too low'. \n",
    "- If it equals guess_me, print found it! and then break out of the for loop.\n",
    "- If number is greater than guess_me, print 'oops' and then exit the loop.\n",
    "---"
   ]
  },
  {
   "cell_type": "code",
   "execution_count": 25,
   "id": "6ca042d4",
   "metadata": {},
   "outputs": [
    {
     "name": "stdout",
     "output_type": "stream",
     "text": [
      "too low\n",
      "too low\n",
      "too low\n",
      "too low\n",
      "too low\n",
      "found it!\n"
     ]
    }
   ],
   "source": [
    "guess_me = 5\n",
    "\n",
    "for number in range(10):\n",
    "    if number < guess_me:\n",
    "        print('too low')\n",
    "    elif number == guess_me:\n",
    "        print('found it!')\n",
    "        break  \n",
    "    else:\n",
    "        print('oops')\n",
    "        break  "
   ]
  }
 ],
 "metadata": {
  "kernelspec": {
   "display_name": "Python 3 (ipykernel)",
   "language": "python",
   "name": "python3"
  },
  "language_info": {
   "codemirror_mode": {
    "name": "ipython",
    "version": 3
   },
   "file_extension": ".py",
   "mimetype": "text/x-python",
   "name": "python",
   "nbconvert_exporter": "python",
   "pygments_lexer": "ipython3",
   "version": "3.12.4"
  }
 },
 "nbformat": 4,
 "nbformat_minor": 5
}
