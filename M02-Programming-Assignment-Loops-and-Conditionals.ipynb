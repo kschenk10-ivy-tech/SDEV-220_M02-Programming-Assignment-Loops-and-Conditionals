{
 "cells": [
  {
   "cell_type": "markdown",
   "id": "0606945f-3803-4035-aac7-652ea41c3a41",
   "metadata": {},
   "source": [
    "# SDEV-220 | Module Two\n",
    "*Programming Assignment: Loops & Conditionals*\r\n"
   ]
  },
  {
   "cell_type": "markdown",
   "id": "fcfced93-c8d1-48d3-b1df-643a17917834",
   "metadata": {},
   "source": [
    "## Chapter 4"
   ]
  },
  {
   "cell_type": "markdown",
   "id": "ed2c89d6-b108-49fb-8e38-862867e14c30",
   "metadata": {},
   "source": [
    "**Things to Do**\n",
    "\n",
    "#### 4.1\n",
    "- Choose a number between 1 and 10 and assign it to the variable secret. \n",
    "- Then, select another number between 1 and 10 and assign it to the variable guess. \n",
    "- Next, write the conditional tests (if, else, and elif) to print the string 'too low'\n",
    "  - if guess is less than secret,'too high'\n",
    "  - if greater than secret, and\n",
    "  - 'just right' if equal to secret.\n",
    "---\n",
    "\n",
    "\n",
    "#### 4.2\n",
    "\n",
    "- Assign True or False to the variables small and green.\n",
    "- Write some if/else statements to print which of these matches those choices: cherry, pea, watermelon, pumpkin.\n",
    "---"
   ]
  },
  {
   "cell_type": "markdown",
   "id": "e5ef84af-6adf-41f2-bc93-aa00c70a1f46",
   "metadata": {},
   "source": [
    "## Chapter 6"
   ]
  },
  {
   "cell_type": "markdown",
   "id": "7ee8c561-e97a-4676-9cbc-9c0e0516b4f2",
   "metadata": {},
   "source": [
    "*Things to Do*\n",
    "\n",
    "#### 6.1 \n",
    "- Use a for loop to print the values of the list [3, 2, 1, 0].\n",
    "---\n",
    "#### 6.2 \n",
    "- Assign the value 7 to the variable guess_me, and the value 1 to the variable number.\n",
    "- Write a while loop that compares number with guess_me. Print 'too low' if number is less than guess me.\n",
    "- If number equals guess_me, print 'found it!' and then exit the loop.\n",
    "- If number is greater than guess_me, print 'oops' and then exit the loop.\n",
    "- Increment number at the end of the loop.\n",
    "---\n",
    "#### 6.3 \n",
    "- Assign the value 5 to the variable guess_me. Use a for loop to iterate a variable called number over range(10).\n",
    "- If number is less than guess_me, print 'too low'. \n",
    "- If it equals guess_me, print found it! and then break out of the for loop.\n",
    "- If number is greater than guess_me, print 'oops' and then exit the loop.\n",
    "---"
   ]
  }
 ],
 "metadata": {
  "kernelspec": {
   "display_name": "Python 3 (ipykernel)",
   "language": "python",
   "name": "python3"
  },
  "language_info": {
   "codemirror_mode": {
    "name": "ipython",
    "version": 3
   },
   "file_extension": ".py",
   "mimetype": "text/x-python",
   "name": "python",
   "nbconvert_exporter": "python",
   "pygments_lexer": "ipython3",
   "version": "3.12.4"
  }
 },
 "nbformat": 4,
 "nbformat_minor": 5
}
